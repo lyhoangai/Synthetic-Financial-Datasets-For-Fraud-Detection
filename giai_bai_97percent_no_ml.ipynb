{
 "cells": [
  {
   "cell_type": "markdown",
   "id": "2ef0bd84",
   "metadata": {
    "papermill": {
     "duration": 0.005375,
     "end_time": "2025-09-22T17:12:31.044970",
     "exception": false,
     "start_time": "2025-09-22T17:12:31.039595",
     "status": "completed"
    },
    "tags": []
   },
   "source": [
    "## Yêu cầu Đề bài: Dự án Phân tích Gian lận Giao dịch PaySim\n",
    "Bối cảnh 🏢\n",
    "\n",
    "Bạn là một nhà phân tích dữ liệu mới vào làm cho một công ty tài chính có tên là \"PaySim\". Công ty cung cấp dịch vụ chuyển tiền qua điện thoại di động. Gần đây, công ty nhận thấy các vụ lừa đảo đang gia tăng, gây thiệt hại về tiền bạc và làm giảm lòng tin của khách hàng.\n",
    "\n",
    "Hệ thống hiện tại của công ty có một quy tắc rất đơn giản để cảnh báo (cột isFlaggedFraud), nhưng nó hoạt động không hiệu quả và bỏ lọt rất nhiều trường hợp.\n",
    "\n",
    "Nhiệm vụ của bạn 📜\n",
    "\n",
    "Giám đốc yêu cầu bạn phân tích bộ dữ liệu giao dịch trong một tháng để tìm ra những quy luật ẩn sau các hành vi gian lận.\n",
    "\n",
    "Mục tiêu chính 🎯\n",
    "\n",
    "Mục tiêu cuối cùng của bạn là tìm ra những \"dấu hiệu\" hoặc \"dấu vân tay\" đặc trưng của một giao dịch gian lận để từ đó xây dựng một hệ thống cảnh báo mới thông minh và hiệu quả hơn.\n",
    "\n",
    "## Các Câu hỏi Điều tra chính (Lộ trình Phân tích)\n",
    "Để đạt được mục tiêu trên, chúng ta sẽ lần lượt trả lời các câu hỏi sau. Mỗi câu hỏi là một bước trong cuộc điều tra của bạn:\n",
    "\n",
    "Khám phá Tổng quan: Bức tranh toàn cảnh của dữ liệu trông thế nào? Có bao nhiêu giao dịch? Tỷ lệ gian lận là bao nhiêu? Dữ liệu có bị thiếu hay có gì bất thường không?\n",
    "\n",
    "Phân tích Đặc điểm Gian lận: Hành vi gian lận có những đặc điểm gì nổi bật? Chúng thường là loại giao dịch nào (type)? Số tiền (amount) có khác biệt không?\n",
    "\n",
    "Tìm \"Dấu hiệu Vàng\": Dấu hiệu nào là mạnh mẽ nhất để nhận biết một giao dịch là gian lận? (Ví dụ: Liệu có phải các giao dịch rút sạch tiền trong tài khoản đều là gian lận không?)\n",
    "\n",
    "(Nâng cao) Xây dựng Mô hình: Dựa trên những dấu hiệu tìm được, làm thế nào để xây dựng một bộ quy tắc hoặc một mô hình đơn giản để \"bắt\" những giao dịch đáng ngờ này?"
   ]
  },
  {
   "cell_type": "code",
   "execution_count": 1,
   "id": "dab18b26",
   "metadata": {
    "_cell_guid": "b1076dfc-b9ad-4769-8c92-a6c4dae69d19",
    "_uuid": "8f2839f25d086af736a60e9eeb907d3b93b6e0e5",
    "execution": {
     "iopub.execute_input": "2025-09-22T17:12:31.054773Z",
     "iopub.status.busy": "2025-09-22T17:12:31.054369Z",
     "iopub.status.idle": "2025-09-22T17:12:52.780007Z",
     "shell.execute_reply": "2025-09-22T17:12:52.778841Z"
    },
    "papermill": {
     "duration": 21.732512,
     "end_time": "2025-09-22T17:12:52.781743",
     "exception": false,
     "start_time": "2025-09-22T17:12:31.049231",
     "status": "completed"
    },
    "tags": []
   },
   "outputs": [
    {
     "data": {
      "text/html": [
       "<div>\n",
       "<style scoped>\n",
       "    .dataframe tbody tr th:only-of-type {\n",
       "        vertical-align: middle;\n",
       "    }\n",
       "\n",
       "    .dataframe tbody tr th {\n",
       "        vertical-align: top;\n",
       "    }\n",
       "\n",
       "    .dataframe thead th {\n",
       "        text-align: right;\n",
       "    }\n",
       "</style>\n",
       "<table border=\"1\" class=\"dataframe\">\n",
       "  <thead>\n",
       "    <tr style=\"text-align: right;\">\n",
       "      <th></th>\n",
       "      <th>step</th>\n",
       "      <th>type</th>\n",
       "      <th>amount</th>\n",
       "      <th>nameOrig</th>\n",
       "      <th>oldbalanceOrg</th>\n",
       "      <th>newbalanceOrig</th>\n",
       "      <th>nameDest</th>\n",
       "      <th>oldbalanceDest</th>\n",
       "      <th>newbalanceDest</th>\n",
       "      <th>isFraud</th>\n",
       "      <th>isFlaggedFraud</th>\n",
       "    </tr>\n",
       "  </thead>\n",
       "  <tbody>\n",
       "    <tr>\n",
       "      <th>0</th>\n",
       "      <td>1</td>\n",
       "      <td>PAYMENT</td>\n",
       "      <td>9839.64</td>\n",
       "      <td>C1231006815</td>\n",
       "      <td>170136.0</td>\n",
       "      <td>160296.36</td>\n",
       "      <td>M1979787155</td>\n",
       "      <td>0.0</td>\n",
       "      <td>0.0</td>\n",
       "      <td>0</td>\n",
       "      <td>0</td>\n",
       "    </tr>\n",
       "    <tr>\n",
       "      <th>1</th>\n",
       "      <td>1</td>\n",
       "      <td>PAYMENT</td>\n",
       "      <td>1864.28</td>\n",
       "      <td>C1666544295</td>\n",
       "      <td>21249.0</td>\n",
       "      <td>19384.72</td>\n",
       "      <td>M2044282225</td>\n",
       "      <td>0.0</td>\n",
       "      <td>0.0</td>\n",
       "      <td>0</td>\n",
       "      <td>0</td>\n",
       "    </tr>\n",
       "    <tr>\n",
       "      <th>2</th>\n",
       "      <td>1</td>\n",
       "      <td>TRANSFER</td>\n",
       "      <td>181.00</td>\n",
       "      <td>C1305486145</td>\n",
       "      <td>181.0</td>\n",
       "      <td>0.00</td>\n",
       "      <td>C553264065</td>\n",
       "      <td>0.0</td>\n",
       "      <td>0.0</td>\n",
       "      <td>1</td>\n",
       "      <td>0</td>\n",
       "    </tr>\n",
       "    <tr>\n",
       "      <th>3</th>\n",
       "      <td>1</td>\n",
       "      <td>CASH_OUT</td>\n",
       "      <td>181.00</td>\n",
       "      <td>C840083671</td>\n",
       "      <td>181.0</td>\n",
       "      <td>0.00</td>\n",
       "      <td>C38997010</td>\n",
       "      <td>21182.0</td>\n",
       "      <td>0.0</td>\n",
       "      <td>1</td>\n",
       "      <td>0</td>\n",
       "    </tr>\n",
       "    <tr>\n",
       "      <th>4</th>\n",
       "      <td>1</td>\n",
       "      <td>PAYMENT</td>\n",
       "      <td>11668.14</td>\n",
       "      <td>C2048537720</td>\n",
       "      <td>41554.0</td>\n",
       "      <td>29885.86</td>\n",
       "      <td>M1230701703</td>\n",
       "      <td>0.0</td>\n",
       "      <td>0.0</td>\n",
       "      <td>0</td>\n",
       "      <td>0</td>\n",
       "    </tr>\n",
       "  </tbody>\n",
       "</table>\n",
       "</div>"
      ],
      "text/plain": [
       "   step      type    amount     nameOrig  oldbalanceOrg  newbalanceOrig  \\\n",
       "0     1   PAYMENT   9839.64  C1231006815       170136.0       160296.36   \n",
       "1     1   PAYMENT   1864.28  C1666544295        21249.0        19384.72   \n",
       "2     1  TRANSFER    181.00  C1305486145          181.0            0.00   \n",
       "3     1  CASH_OUT    181.00   C840083671          181.0            0.00   \n",
       "4     1   PAYMENT  11668.14  C2048537720        41554.0        29885.86   \n",
       "\n",
       "      nameDest  oldbalanceDest  newbalanceDest  isFraud  isFlaggedFraud  \n",
       "0  M1979787155             0.0             0.0        0               0  \n",
       "1  M2044282225             0.0             0.0        0               0  \n",
       "2   C553264065             0.0             0.0        1               0  \n",
       "3    C38997010         21182.0             0.0        1               0  \n",
       "4  M1230701703             0.0             0.0        0               0  "
      ]
     },
     "execution_count": 1,
     "metadata": {},
     "output_type": "execute_result"
    }
   ],
   "source": [
    "import pandas as pd\n",
    "import numpy as np\n",
    "df = pd.read_csv('/kaggle/input/paysim1/PS_20174392719_1491204439457_log.csv')\n",
    "df.head()"
   ]
  },
  {
   "cell_type": "markdown",
   "id": "b47069f1",
   "metadata": {
    "papermill": {
     "duration": 0.004101,
     "end_time": "2025-09-22T17:12:52.790538",
     "exception": false,
     "start_time": "2025-09-22T17:12:52.786437",
     "status": "completed"
    },
    "tags": []
   },
   "source": [
    "## Mũi điều tra 1: Khám phá Dữ liệu Tổng quan."
   ]
  },
  {
   "cell_type": "code",
   "execution_count": 2,
   "id": "52984a6d",
   "metadata": {
    "execution": {
     "iopub.execute_input": "2025-09-22T17:12:52.800441Z",
     "iopub.status.busy": "2025-09-22T17:12:52.800090Z",
     "iopub.status.idle": "2025-09-22T17:12:55.146616Z",
     "shell.execute_reply": "2025-09-22T17:12:55.145382Z"
    },
    "papermill": {
     "duration": 2.353575,
     "end_time": "2025-09-22T17:12:55.148343",
     "exception": false,
     "start_time": "2025-09-22T17:12:52.794768",
     "status": "completed"
    },
    "tags": []
   },
   "outputs": [
    {
     "name": "stdout",
     "output_type": "stream",
     "text": [
      "1. Kích thước Dữ liệu\n",
      "Bộ dữ liệu có 6362620 hàng và 11 cột.\n",
      "--------------------------------------------------\n",
      "<class 'pandas.core.frame.DataFrame'>\n",
      "RangeIndex: 6362620 entries, 0 to 6362619\n",
      "Data columns (total 11 columns):\n",
      " #   Column          Dtype  \n",
      "---  ------          -----  \n",
      " 0   step            int64  \n",
      " 1   type            object \n",
      " 2   amount          float64\n",
      " 3   nameOrig        object \n",
      " 4   oldbalanceOrg   float64\n",
      " 5   newbalanceOrig  float64\n",
      " 6   nameDest        object \n",
      " 7   oldbalanceDest  float64\n",
      " 8   newbalanceDest  float64\n",
      " 9   isFraud         int64  \n",
      " 10  isFlaggedFraud  int64  \n",
      "dtypes: float64(5), int64(3), object(3)\n",
      "memory usage: 534.0+ MB\n",
      "--------------------------------------------------\n",
      "\n",
      "## 3. Tóm tắt Thống kê cho các Cột số ##\n",
      "              step        amount  oldbalanceOrg  newbalanceOrig  \\\n",
      "count 6,362,620.00  6,362,620.00   6,362,620.00    6,362,620.00   \n",
      "mean        243.40    179,861.90     833,883.10      855,113.67   \n",
      "std         142.33    603,858.23   2,888,242.67    2,924,048.50   \n",
      "min           1.00          0.00           0.00            0.00   \n",
      "25%         156.00     13,389.57           0.00            0.00   \n",
      "50%         239.00     74,871.94      14,208.00            0.00   \n",
      "75%         335.00    208,721.48     107,315.18      144,258.41   \n",
      "max         743.00 92,445,516.64  59,585,040.37   49,585,040.37   \n",
      "\n",
      "       oldbalanceDest  newbalanceDest      isFraud  isFlaggedFraud  \n",
      "count    6,362,620.00    6,362,620.00 6,362,620.00    6,362,620.00  \n",
      "mean     1,100,701.67    1,224,996.40         0.00            0.00  \n",
      "std      3,399,180.11    3,674,128.94         0.04            0.00  \n",
      "min              0.00            0.00         0.00            0.00  \n",
      "25%              0.00            0.00         0.00            0.00  \n",
      "50%        132,705.66      214,661.44         0.00            0.00  \n",
      "75%        943,036.71    1,111,909.25         0.00            0.00  \n",
      "max    356,015,889.35  356,179,278.92         1.00            1.00  \n",
      "--------------------------------------------------\n",
      "\n",
      "## 4. Phân tích Tỷ Lệ Giao dịch Gian lận ##\n",
      "isFraud\n",
      "0   99.87\n",
      "1    0.13\n",
      "Name: proportion, dtype: float64\n"
     ]
    }
   ],
   "source": [
    "# Thêm dòng này vào một ô code ở đầu notebook và chạy nó một lần\n",
    "pd.options.display.float_format = '{:,.2f}'.format\n",
    "#Bức tranh toàn cảnh của dữ liệu trông thế nào?\n",
    "#1 Kiểm tra kích thước dữ liệu\n",
    "print(\"1. Kích thước Dữ liệu\")\n",
    "print(f\"Bộ dữ liệu có {df.shape[0]} hàng và {df.shape[1]} cột.\")\n",
    "print('-' * 50)\n",
    "#2 Kiểm tra ' Sức khỏe' của dữ liệu\n",
    "# .info() sẽ cho ta biết kiểu dữ liệu của mỗi cột và liệu có dữ liệu nào bị thiếu không\n",
    "df.info()\n",
    "print(\"-\" * 50)\n",
    "# 3. Tóm tắt thống kê cho các cột số\n",
    "# .describe() cho ta cái nhìn nhanh về các giá trị min, max, trung bình... của các cột số\n",
    "print(\"\\n## 3. Tóm tắt Thống kê cho các Cột số ##\")\n",
    "print(df.describe())\n",
    "print(\"-\" * 50)\n",
    "# 4. Kiểm tra tỷ lệ gian lận( Quan trọng nhất)\n",
    "# Như chúng ta đã biết cột isFraud cho chúng ta thông tin tỉ lệ gian lận\n",
    "# .value_counts() đếm số lượng của mỗi giá trị trong cột 'isFraud'\n",
    "# normalize=True sẽ chuyển số lượng đó thành phần trăm\n",
    "print(\"\\n## 4. Phân tích Tỷ Lệ Giao dịch Gian lận ##\")\n",
    "fraud_percentage = df['isFraud'].value_counts(normalize=True) * 100\n",
    "print(fraud_percentage)"
   ]
  },
  {
   "cell_type": "markdown",
   "id": "9167c573",
   "metadata": {
    "papermill": {
     "duration": 0.004331,
     "end_time": "2025-09-22T17:12:55.157973",
     "exception": false,
     "start_time": "2025-09-22T17:12:55.153642",
     "status": "completed"
    },
    "tags": []
   },
   "source": [
    "1. Có hơn 6 triệu giao dịch (con số lớn)\n",
    "2. không có dữ liệu nào bị thiếu\n",
    "3. Tỉ lệ gian lận là thấp (1000 giao dịch thì sẽ có 1 gian lận) nhưng điều chúng ta muốn là không có gian lận "
   ]
  },
  {
   "cell_type": "markdown",
   "id": "b2006f11",
   "metadata": {
    "papermill": {
     "duration": 0.004222,
     "end_time": "2025-09-22T17:12:55.166629",
     "exception": false,
     "start_time": "2025-09-22T17:12:55.162407",
     "status": "completed"
    },
    "tags": []
   },
   "source": [
    "## Mũi điều tra 2: Phân tích Đặc điểm Gian lận"
   ]
  },
  {
   "cell_type": "code",
   "execution_count": 3,
   "id": "21df427c",
   "metadata": {
    "execution": {
     "iopub.execute_input": "2025-09-22T17:12:55.177008Z",
     "iopub.status.busy": "2025-09-22T17:12:55.176701Z",
     "iopub.status.idle": "2025-09-22T17:12:56.796192Z",
     "shell.execute_reply": "2025-09-22T17:12:56.795100Z"
    },
    "papermill": {
     "duration": 1.627001,
     "end_time": "2025-09-22T17:12:56.798136",
     "exception": false,
     "start_time": "2025-09-22T17:12:55.171135",
     "status": "completed"
    },
    "tags": []
   },
   "outputs": [
    {
     "name": "stdout",
     "output_type": "stream",
     "text": [
      "## 1. Phân tích loại giao dịch của các vụ Gian Lận ##\n",
      "Các loại giao dịch gian lận bao gồm\n",
      "type\n",
      "CASH_OUT    4116\n",
      "TRANSFER    4097\n",
      "Name: count, dtype: int64\n",
      "--------------------------------------------------\n",
      "\n",
      "## 2. So sánh Số tiền giao dịch giữa nhóm Gian lận và Bình thường ##\n",
      "Thống kê số tiền cho các giao dịch BÌNH THƯỜNG:\n",
      "count    6,354,407.00\n",
      "mean       178,197.04\n",
      "std        596,236.98\n",
      "min              0.01\n",
      "25%         13,368.40\n",
      "50%         74,684.72\n",
      "75%        208,364.76\n",
      "max     92,445,516.64\n",
      "Name: amount, dtype: float64\n",
      "\n",
      "Thống kê số tiền cho các giao dịch GIAN LẬN:\n",
      "count        8,213.00\n",
      "mean     1,467,967.30\n",
      "std      2,404,252.95\n",
      "min              0.00\n",
      "25%        127,091.33\n",
      "50%        441,423.44\n",
      "75%      1,517,771.48\n",
      "max     10,000,000.00\n",
      "Name: amount, dtype: float64\n",
      "--------------------------------------------------\n",
      "\n",
      "## So sánh hiệu quả hơn bằng groupby: ##\n"
     ]
    },
    {
     "data": {
      "text/html": [
       "<div>\n",
       "<style scoped>\n",
       "    .dataframe tbody tr th:only-of-type {\n",
       "        vertical-align: middle;\n",
       "    }\n",
       "\n",
       "    .dataframe tbody tr th {\n",
       "        vertical-align: top;\n",
       "    }\n",
       "\n",
       "    .dataframe thead th {\n",
       "        text-align: right;\n",
       "    }\n",
       "</style>\n",
       "<table border=\"1\" class=\"dataframe\">\n",
       "  <thead>\n",
       "    <tr style=\"text-align: right;\">\n",
       "      <th></th>\n",
       "      <th>count</th>\n",
       "      <th>mean</th>\n",
       "      <th>std</th>\n",
       "      <th>min</th>\n",
       "      <th>25%</th>\n",
       "      <th>50%</th>\n",
       "      <th>75%</th>\n",
       "      <th>max</th>\n",
       "    </tr>\n",
       "    <tr>\n",
       "      <th>isFraud</th>\n",
       "      <th></th>\n",
       "      <th></th>\n",
       "      <th></th>\n",
       "      <th></th>\n",
       "      <th></th>\n",
       "      <th></th>\n",
       "      <th></th>\n",
       "      <th></th>\n",
       "    </tr>\n",
       "  </thead>\n",
       "  <tbody>\n",
       "    <tr>\n",
       "      <th>0</th>\n",
       "      <td>6,354,407.00</td>\n",
       "      <td>178,197.04</td>\n",
       "      <td>596,236.98</td>\n",
       "      <td>0.01</td>\n",
       "      <td>13,368.40</td>\n",
       "      <td>74,684.72</td>\n",
       "      <td>208,364.76</td>\n",
       "      <td>92,445,516.64</td>\n",
       "    </tr>\n",
       "    <tr>\n",
       "      <th>1</th>\n",
       "      <td>8,213.00</td>\n",
       "      <td>1,467,967.30</td>\n",
       "      <td>2,404,252.95</td>\n",
       "      <td>0.00</td>\n",
       "      <td>127,091.33</td>\n",
       "      <td>441,423.44</td>\n",
       "      <td>1,517,771.48</td>\n",
       "      <td>10,000,000.00</td>\n",
       "    </tr>\n",
       "  </tbody>\n",
       "</table>\n",
       "</div>"
      ],
      "text/plain": [
       "               count         mean          std  min        25%        50%  \\\n",
       "isFraud                                                                     \n",
       "0       6,354,407.00   178,197.04   596,236.98 0.01  13,368.40  74,684.72   \n",
       "1           8,213.00 1,467,967.30 2,404,252.95 0.00 127,091.33 441,423.44   \n",
       "\n",
       "                 75%           max  \n",
       "isFraud                             \n",
       "0         208,364.76 92,445,516.64  \n",
       "1       1,517,771.48 10,000,000.00  "
      ]
     },
     "execution_count": 3,
     "metadata": {},
     "output_type": "execute_result"
    }
   ],
   "source": [
    "# --- Phân tích Đặc điểm Giao dịch Gian lận ---\n",
    "\n",
    "# Tạo một DataFrame mới chỉ chứa các giao dịch gian lận để dễ phân tích\n",
    "fraud_df = df[df['isFraud'] == 1]\n",
    "# 1.Loại giao dịch (type) nào là gian lận?\n",
    "print(\"## 1. Phân tích loại giao dịch của các vụ Gian Lận ##\")\n",
    "print(\"Các loại giao dịch gian lận bao gồm\")\n",
    "print(fraud_df['type'].value_counts())\n",
    "print(\"-\" * 50)\n",
    "# 2. Số tiền(amount) trong các giao dịch gian lận có gì khác biệt ?\n",
    "# Chúng ta sẽ so sánh thống kê của cột 'amount' giữa nhóm gian lận và nhóm bình thường\n",
    "print(\"\\n## 2. So sánh Số tiền giao dịch giữa nhóm Gian lận và Bình thường ##\")\n",
    "print(\"Thống kê số tiền cho các giao dịch BÌNH THƯỜNG:\")\n",
    "# Lấy 10000 mẫu ngẫu nhiên của nhóm bình thường để so sánh cho dễ nhìn\n",
    "print(df[df['isFraud'] == 0]['amount'].describe())\n",
    "print(\"\\nThống kê số tiền cho các giao dịch GIAN LẬN:\")\n",
    "print(fraud_df['amount'].describe())\n",
    "print(\"-\" * 50)\n",
    "# Một cách khác hiệu quả hơn để so sánh:\n",
    "print(\"\\n## So sánh hiệu quả hơn bằng groupby: ##\")\n",
    "comparison_table = df.groupby('isFraud')['amount'].describe()\n",
    "comparison_table"
   ]
  },
  {
   "cell_type": "markdown",
   "id": "8cc7f39f",
   "metadata": {
    "papermill": {
     "duration": 0.00463,
     "end_time": "2025-09-22T17:12:56.807891",
     "exception": false,
     "start_time": "2025-09-22T17:12:56.803261",
     "status": "completed"
    },
    "tags": []
   },
   "source": [
    "1. Số tiền trung bình (Mean) giao dịch gian lận cao gấp 8 lần so với những giao dịch bình thường\n",
    "2. Giá trị 50% (Median) giao dịch 'điển hình' của gian lận cũng cao hơn gấp 6 lần so với giao dịch bình thường\n",
    "3. Độ nhất quán (std - độ lệch chuẩn) Số tiền gian lận đa dạng và biến động hơn rất nhiều so với bình thường\n",
    "4. Kết luận: Giao dịch gian lận thường nhắm đến các giao dịch giá trị cao, chúng không thực hiện giao dịch nhỏ vài nghìn đồng thấp nhất là 0 và 25% số giao dịch đã có giá trị trên 127k tức là còn cao hơn cả 50% của giao dịch bình thường. Chúng cố gắng lấy tiền rất đa dạng, không theo một quy luật cố định nào cả"
   ]
  },
  {
   "cell_type": "markdown",
   "id": "2d14beda",
   "metadata": {
    "papermill": {
     "duration": 0.004535,
     "end_time": "2025-09-22T17:12:56.817339",
     "exception": false,
     "start_time": "2025-09-22T17:12:56.812804",
     "status": "completed"
    },
    "tags": []
   },
   "source": [
    "##  Mũi điều tra 3: Tìm \"Dấu hiệu Vàng\"."
   ]
  },
  {
   "cell_type": "markdown",
   "id": "912262d9",
   "metadata": {
    "papermill": {
     "duration": 0.004559,
     "end_time": "2025-09-22T17:12:56.826855",
     "exception": false,
     "start_time": "2025-09-22T17:12:56.822296",
     "status": "completed"
    },
    "tags": []
   },
   "source": [
    "Dựa trên những gì chúng ta đã khám phá, hãy cùng kiểm tra giả thuyết mới:\n",
    "\n",
    "Giả thuyết: Kẻ gian thường cố gắng rút SẠCH tiền ra khỏi tài khoản trong một lần giao dịch.\n",
    "\n",
    "Chúng ta có thể kiểm tra điều này trong dữ liệu bằng cách tìm các giao dịch thỏa mãn điều kiện: số dư mới của người gửi (newbalanceOrig) bằng 0."
   ]
  },
  {
   "cell_type": "code",
   "execution_count": 4,
   "id": "6d1be76e",
   "metadata": {
    "execution": {
     "iopub.execute_input": "2025-09-22T17:12:56.838602Z",
     "iopub.status.busy": "2025-09-22T17:12:56.838237Z",
     "iopub.status.idle": "2025-09-22T17:12:57.809234Z",
     "shell.execute_reply": "2025-09-22T17:12:57.808019Z"
    },
    "papermill": {
     "duration": 0.978873,
     "end_time": "2025-09-22T17:12:57.811324",
     "exception": false,
     "start_time": "2025-09-22T17:12:56.832451",
     "status": "completed"
    },
    "tags": []
   },
   "outputs": [
    {
     "name": "stdout",
     "output_type": "stream",
     "text": [
      "## Phân tích các giao dịch làm CẠN KIỆT tài khoản ##\n",
      "Tìm thấy 1188074 giao dịch làm cạn kiệt tài khoản.\n",
      "\n",
      "Tỷ lệ gian lận trong nhóm này là:\n",
      "isFraud\n",
      "0   99.33\n",
      "1    0.67\n",
      "Name: proportion, dtype: float64\n"
     ]
    }
   ],
   "source": [
    "# --- Tìm \"Dấu hiệu Vàng\" ---\n",
    "\n",
    "# 1. Tạo một DataFrame mới chỉ chứa 2 loại giao dịch đáng ngờ\n",
    "suspicious_types_df = df[df['type'].isin(['TRANSFER', 'CASH_OUT'])].copy()\n",
    "# 2. Tìm các giao dịch mà tài khoản gốc bị rút sạch tiền\n",
    "# Điều kiện: số dư mới của người gửi bằng 0, và số dư cũ lớn hơn 0( để chắc chắn rằng đây là một giao dịch rút tiền thực sự )\n",
    "emptied_account_df = suspicious_types_df[\n",
    "    (suspicious_types_df['newbalanceOrig'] == 0) & \n",
    "    (suspicious_types_df['oldbalanceOrg'] > 0)\n",
    "]\n",
    "# 3. Phân tích tỷ lệ gian lận chỉ trong nhóm đáng ngờ này\n",
    "print(\"## Phân tích các giao dịch làm CẠN KIỆT tài khoản ##\")\n",
    "print(f\"Tìm thấy {len(emptied_account_df)} giao dịch làm cạn kiệt tài khoản.\")\n",
    "print(\"\\nTỷ lệ gian lận trong nhóm này là:\")\n",
    "fraud_rate_in_suspicious_group = emptied_account_df['isFraud'].value_counts(normalize=True) * 100\n",
    "print(fraud_rate_in_suspicious_group)"
   ]
  },
  {
   "cell_type": "markdown",
   "id": "a91838af",
   "metadata": {
    "papermill": {
     "duration": 0.005181,
     "end_time": "2025-09-22T17:12:57.821848",
     "exception": false,
     "start_time": "2025-09-22T17:12:57.816667",
     "status": "completed"
    },
    "tags": []
   },
   "source": [
    "Đây là một manh mối tốt, một \"dấu hiệu\" có giá trị. Nó cho thấy hành vi rút sạch tiền có liên quan đến gian lận, nhưng nó chưa phải là \"dấu hiệu vàng\" mà chúng ta tìm kiếm. Tại sao? Bởi vì vẫn có đến 99.33% các giao dịch rút sạch tiền là giao dịch bình thường. Nếu chúng ta báo động tất cả các giao dịch này, chúng ta sẽ bắt nhầm rất nhiều người vô tội."
   ]
  },
  {
   "cell_type": "markdown",
   "id": "d5aba713",
   "metadata": {
    "papermill": {
     "duration": 0.004515,
     "end_time": "2025-09-22T17:12:57.831557",
     "exception": false,
     "start_time": "2025-09-22T17:12:57.827042",
     "status": "completed"
    },
    "tags": []
   },
   "source": [
    "### Giả thuyết mới và mạnh mẽ hơn: \"Dấu hiệu vàng\" của một vụ lừa đảo là một giao dịch TRANSFER mà trong đó số tiền (amount) chuyển đi bằng chính xác số dư ban đầu (oldbalanceOrg)."
   ]
  },
  {
   "cell_type": "code",
   "execution_count": 5,
   "id": "5420e63c",
   "metadata": {
    "execution": {
     "iopub.execute_input": "2025-09-22T17:12:57.842486Z",
     "iopub.status.busy": "2025-09-22T17:12:57.842130Z",
     "iopub.status.idle": "2025-09-22T17:12:58.380151Z",
     "shell.execute_reply": "2025-09-22T17:12:58.378916Z"
    },
    "papermill": {
     "duration": 0.545785,
     "end_time": "2025-09-22T17:12:58.382062",
     "exception": false,
     "start_time": "2025-09-22T17:12:57.836277",
     "status": "completed"
    },
    "tags": []
   },
   "outputs": [
    {
     "name": "stdout",
     "output_type": "stream",
     "text": [
      "## Phân tích các giao dịch TRANSFER rút toàn bộ số dư ##\n",
      "Tìm thấy 3943 giao dịch khớp với 'Dấu hiệu Vàng'.\n",
      "\n",
      "Tỷ lệ gian lận trong nhóm này là:\n",
      "isFraud\n",
      "1   100.00\n",
      "Name: proportion, dtype: float64\n"
     ]
    }
   ],
   "source": [
    "# --- Tìm \"Dấu hiệu Vàng\" thực sự ---\n",
    "\n",
    "# 1. Lọc ra các giao dịch TRANSFER mà số tiền chuyển đi bằng đúng số dư ban đầu\n",
    "# Chúng ta cũng thêm điều kiện amount > 0 để loại bỏ các giao dịch 0 đồng\n",
    "golden_signal_df = df[\n",
    "    (df['type'] == 'TRANSFER') &\n",
    "    (df['amount'] == df['oldbalanceOrg']) &\n",
    "    (df['amount'] > 0)\n",
    "]\n",
    "\n",
    "print(\"## Phân tích các giao dịch TRANSFER rút toàn bộ số dư ##\")\n",
    "print(f\"Tìm thấy {len(golden_signal_df)} giao dịch khớp với 'Dấu hiệu Vàng'.\")\n",
    "\n",
    "# 2. Phân tích tỷ lệ gian lận CHỈ trong nhóm siêu đáng ngờ này\n",
    "print(\"\\nTỷ lệ gian lận trong nhóm này là:\")\n",
    "final_fraud_rate = golden_signal_df['isFraud'].value_counts(normalize=True) * 100\n",
    "print(final_fraud_rate)"
   ]
  },
  {
   "cell_type": "markdown",
   "id": "7c9c4243",
   "metadata": {
    "papermill": {
     "duration": 0.004727,
     "end_time": "2025-09-22T17:12:58.392082",
     "exception": false,
     "start_time": "2025-09-22T17:12:58.387355",
     "status": "completed"
    },
    "tags": []
   },
   "source": [
    "## Phân tích Kết quả Quyết định\n",
    "Tìm thấy: Có 3,943 giao dịch khớp với quy luật \"chuyển khoản toàn bộ số dư\".\n",
    "\n",
    "Tỷ lệ gian lận: Trong số 3,943 giao dịch đó, 100% là gian lận.\n",
    "\n",
    "Ý nghĩa:\n",
    "Bạn đã tìm ra một quy luật có độ chính xác tuyệt đối. Nó không còn là \"manh mối\" hay \"dấu hiệu\" nữa, mà đã trở thành một quy tắc xác định (deterministic rule).\n",
    "\n",
    "Điều này có nghĩa là, trong bộ dữ liệu này, bất kỳ khi nào có một giao dịch TRANSFER mà số tiền chuyển đi bằng chính xác số dư ban đầu, chúng ta có thể khẳng định chắc chắn 100% đó là một vụ lừa đảo."
   ]
  },
  {
   "cell_type": "markdown",
   "id": "2951fe87",
   "metadata": {
    "papermill": {
     "duration": 0.005118,
     "end_time": "2025-09-22T17:12:58.403034",
     "exception": false,
     "start_time": "2025-09-22T17:12:58.397916",
     "status": "completed"
    },
    "tags": []
   },
   "source": [
    "## Phân tích Lỗ hổng\n",
    "Tổng số vụ gian lận: 4116 (CASH_OUT) + 4097 (TRANSFER) = 8213 vụ.\n",
    "\n",
    "Số vụ bắt được bởi \"Dấu hiệu Vàng\": 3943 vụ (đều là TRANSFER).\n",
    "\n",
    "Kết luận của bạn: Chính xác. \"Dấu hiệu Vàng\" của chúng ta (amount == oldbalanceOrg cho giao dịch TRANSFER) rất mạnh, nhưng nó chỉ bắt được một loại tội phạm cụ thể, và chúng ta đã bỏ lọt:\n",
    "\n",
    "Toàn bộ 4116 vụ gian lận qua CASH_OUT.\n",
    "\n",
    "154 vụ gian lận qua TRANSFER (4097 - 3943 = 154) không tuân theo quy luật đó.\n",
    "\n",
    "Điều này có nghĩa là có ít nhất hai \"chủng\" tội phạm khác nhau trong dữ liệu này, với những phương thức gây án khác nhau."
   ]
  },
  {
   "cell_type": "markdown",
   "id": "f729c666",
   "metadata": {
    "papermill": {
     "duration": 0.005728,
     "end_time": "2025-09-22T17:12:58.414070",
     "exception": false,
     "start_time": "2025-09-22T17:12:58.408342",
     "status": "completed"
    },
    "tags": []
   },
   "source": [
    "## Mũi điều tra Tiếp theo: Phân tích các Vụ án \"Chưa được giải quyết\"\n",
    "Giờ chúng ta sẽ vào vai thám tử điều tra các vụ án còn lại. Liệu có một \"Dấu hiệu Vàng\" khác cho các giao dịch CASH_OUT không?\n",
    "\n",
    "Giả thuyết: Có thể các vụ CASH_OUT gian lận cũng tuân theo quy luật tương tự: rút toàn bộ số tiền trong tài khoản."
   ]
  },
  {
   "cell_type": "code",
   "execution_count": 6,
   "id": "ea3d483d",
   "metadata": {
    "execution": {
     "iopub.execute_input": "2025-09-22T17:12:58.426419Z",
     "iopub.status.busy": "2025-09-22T17:12:58.425845Z",
     "iopub.status.idle": "2025-09-22T17:12:59.482140Z",
     "shell.execute_reply": "2025-09-22T17:12:59.480259Z"
    },
    "papermill": {
     "duration": 1.064822,
     "end_time": "2025-09-22T17:12:59.483967",
     "exception": false,
     "start_time": "2025-09-22T17:12:58.419145",
     "status": "completed"
    },
    "tags": []
   },
   "outputs": [
    {
     "name": "stdout",
     "output_type": "stream",
     "text": [
      "## 1. Kiểm tra các giao dịch CASH_OUT khớp với 'Dấu hiệu Vàng' ##\n",
      "Tìm thấy 4075 giao dịch CASH_OUT khớp với quy luật.\n",
      "Tỷ lệ gian lận trong nhóm này là:\n",
      "isFraud\n",
      "1   100.00\n",
      "Name: proportion, dtype: float64\n",
      "------------------------------\n",
      "\n",
      "## 2. Phân tích 154 vụ TRANSFER gian lận chưa được giải quyết ##\n",
      "Số vụ TRANSFER chưa giải quyết: 154\n",
      "Xem 5 vụ đầu tiên để tìm quy luật:\n",
      "        step      type        amount     nameOrig  oldbalanceOrg  \\\n",
      "4440       4  TRANSFER 10,000,000.00     C7162498  12,930,418.44   \n",
      "25875      8  TRANSFER  1,078,013.76  C1026280121           0.00   \n",
      "60853      9  TRANSFER    994,453.20  C1121789613   1,437,370.87   \n",
      "138559    11  TRANSFER  1,933,920.80  C1706582969           0.00   \n",
      "217978    13  TRANSFER    123,194.95  C2143112877      79,466.45   \n",
      "\n",
      "        newbalanceOrig     nameDest  oldbalanceDest  newbalanceDest  isFraud  \\\n",
      "4440      2,930,418.44   C945327594            0.00            0.00        1   \n",
      "25875             0.00   C277510102            0.00      970,749.68        1   \n",
      "60853       442,917.67   C254839817      194,812.76      665,743.67        1   \n",
      "138559            0.00   C461905695    1,283,762.85    3,217,683.65        1   \n",
      "217978            0.00  C1755380031      535,933.16      263,908.84        1   \n",
      "\n",
      "        isFlaggedFraud  \n",
      "4440                 0  \n",
      "25875                0  \n",
      "60853                0  \n",
      "138559               0  \n",
      "217978               0  \n"
     ]
    }
   ],
   "source": [
    "# --- Điều tra các vụ án còn lại ---\n",
    "\n",
    "# 1. Kiểm tra \"Dấu hiệu Vàng\" cho các giao dịch CASH_OUT\n",
    "print(\"## 1. Kiểm tra các giao dịch CASH_OUT khớp với 'Dấu hiệu Vàng' ##\")\n",
    "cash_out_signal_df = df[\n",
    "    (df['type'] == 'CASH_OUT') &\n",
    "    (df['amount'] == df['oldbalanceOrg']) &\n",
    "    (df['amount'] > 0)\n",
    "]\n",
    "\n",
    "# Phân tích tỷ lệ gian lận trong nhóm CASH_OUT này\n",
    "if not cash_out_signal_df.empty:\n",
    "    print(f\"Tìm thấy {len(cash_out_signal_df)} giao dịch CASH_OUT khớp với quy luật.\")\n",
    "    print(\"Tỷ lệ gian lận trong nhóm này là:\")\n",
    "    print(cash_out_signal_df['isFraud'].value_counts(normalize=True) * 100)\n",
    "else:\n",
    "    print(\"Không tìm thấy giao dịch CASH_OUT nào khớp với quy luật 'amount == oldbalanceOrg'.\")\n",
    "\n",
    "print(\"-\" * 30)\n",
    "\n",
    "# 2. Xem xét 154 vụ TRANSFER còn lại\n",
    "print(\"\\n## 2. Phân tích 154 vụ TRANSFER gian lận chưa được giải quyết ##\")\n",
    "\n",
    "# Lọc ra các vụ TRANSFER gian lận\n",
    "fraud_transfer_df = df[(df['type'] == 'TRANSFER') & (df['isFraud'] == 1)]\n",
    "\n",
    "# Lọc ra những vụ KHÔNG khớp với \"Dấu hiệu Vàng\"\n",
    "unsolved_transfers_df = fraud_transfer_df[fraud_transfer_df['amount'] != fraud_transfer_df['oldbalanceOrg']]\n",
    "\n",
    "print(f\"Số vụ TRANSFER chưa giải quyết: {len(unsolved_transfers_df)}\")\n",
    "print(\"Xem 5 vụ đầu tiên để tìm quy luật:\")\n",
    "print(unsolved_transfers_df.head())"
   ]
  },
  {
   "cell_type": "markdown",
   "id": "016e46ec",
   "metadata": {
    "papermill": {
     "duration": 0.004968,
     "end_time": "2025-09-22T17:12:59.494447",
     "exception": false,
     "start_time": "2025-09-22T17:12:59.489479",
     "status": "completed"
    },
    "tags": []
   },
   "source": [
    "## Phân tích Kết quả Cuối cùng\n",
    "\"Dấu hiệu Vàng\" cho CASH_OUT:\n",
    "\n",
    "Bạn đã tìm thấy một quy luật thứ hai với độ chính xác 100%. Bất kỳ giao dịch CASH_OUT nào có số tiền bằng số dư ban đầu đều là gian lận.\n",
    "\n",
    "Quy luật này đã xác định được 4,075 vụ gian lận.\n",
    "\n",
    "154 vụ TRANSFER còn lại:\n",
    "\n",
    "Nhìn vào 5 ví dụ đầu tiên, chúng ta thấy một quy luật rất lạ. Ví dụ ở dòng 25875 và 138559, oldbalanceOrg (số dư ban đầu) là 0.00, nhưng vẫn có một giao dịch chuyển tiền lớn được thực hiện.\n",
    "\n",
    "Ý nghĩa: Đây không phải là hành vi \"rút sạch tiền\" thông thường. Đây là một kiểu gian lận khác, tinh vi hơn, có thể là lợi dụng một lỗi hệ thống để tạo ra giao dịch từ một tài khoản không có tiền. Đây là một phát hiện quan trọng về một phương thức tấn công khác.\n",
    "\n",
    "## Chúng ta đã bắt được bao nhiêu phần trăm tội phạm?\n",
    "Bây giờ, hãy tổng kết hiệu quả của hai \"Dấu hiệu Vàng\" mà bạn đã tìm ra:\n",
    "\n",
    "Tổng số vụ gian lận: 8,213\n",
    "\n",
    "Số vụ TRANSFER bắt được bởi quy luật 1: 3,943\n",
    "\n",
    "Số vụ CASH_OUT bắt được bởi quy luật 2: 4,075\n",
    "\n",
    "Tổng số vụ bắt được: 3943 + 4075 = 8,018 vụ.\n",
    "\n",
    "Hiệu quả: (8018 / 8213) * 100 ≈ 97.6%\n",
    "\n",
    "Điều này thật đáng kinh ngạc. Chỉ với hai quy luật đơn giản, bạn đã xây dựng được một hệ thống có khả năng phát hiện hơn 97% tổng số các vụ lừa đảo!"
   ]
  },
  {
   "cell_type": "code",
   "execution_count": null,
   "id": "2de71d03",
   "metadata": {
    "papermill": {
     "duration": 0.004887,
     "end_time": "2025-09-22T17:12:59.504541",
     "exception": false,
     "start_time": "2025-09-22T17:12:59.499654",
     "status": "completed"
    },
    "tags": []
   },
   "outputs": [],
   "source": []
  }
 ],
 "metadata": {
  "kaggle": {
   "accelerator": "none",
   "dataSources": [
    {
     "datasetId": 1069,
     "sourceId": 1940,
     "sourceType": "datasetVersion"
    }
   ],
   "dockerImageVersionId": 31089,
   "isGpuEnabled": false,
   "isInternetEnabled": false,
   "language": "python",
   "sourceType": "notebook"
  },
  "kernelspec": {
   "display_name": "Python 3",
   "language": "python",
   "name": "python3"
  },
  "language_info": {
   "codemirror_mode": {
    "name": "ipython",
    "version": 3
   },
   "file_extension": ".py",
   "mimetype": "text/x-python",
   "name": "python",
   "nbconvert_exporter": "python",
   "pygments_lexer": "ipython3",
   "version": "3.11.13"
  },
  "papermill": {
   "default_parameters": {},
   "duration": 35.968067,
   "end_time": "2025-09-22T17:13:00.432502",
   "environment_variables": {},
   "exception": null,
   "input_path": "__notebook__.ipynb",
   "output_path": "__notebook__.ipynb",
   "parameters": {},
   "start_time": "2025-09-22T17:12:24.464435",
   "version": "2.6.0"
  }
 },
 "nbformat": 4,
 "nbformat_minor": 5
}
